{
 "cells": [
  {
   "cell_type": "code",
   "execution_count": 17,
   "metadata": {},
   "outputs": [],
   "source": [
    "def abreviarnome(nomes):\n",
    "    if len(nomes) > 35:\n",
    "        preposicoes = {\"DE\", \"DA\", \"DO\", \"DAS\", \"DOS\"}\n",
    "        nomes = nomes.upper().split(\" \")\n",
    "        abreviacoes = [nome[0] + \".\" for nome in nomes[1:-1] \n",
    "                       if nome not in preposicoes]\n",
    "        return nomes[0] + \" \" + \" \".join(abreviacoes) + \" \" + nomes[-1]\n",
    "\n",
    "    return nomes\n"
   ]
  },
  {
   "cell_type": "code",
   "execution_count": 18,
   "metadata": {},
   "outputs": [
    {
     "name": "stdout",
     "output_type": "stream",
     "text": [
      "Descrição abreviada: NOME D. T. Q. C. S. DEZESSETE\n"
     ]
    }
   ],
   "source": [
    "# Exemplo de uso\n",
    "nomes = \"NOME DOIS TRES QUATRO CINCO SEIS DEZESSETE\"\n",
    "descricao_abreviada = abreviarnome(nomes)\n",
    "print(\"Descrição abreviada:\", descricao_abreviada)"
   ]
  }
 ],
 "metadata": {
  "kernelspec": {
   "display_name": "Python 3",
   "language": "python",
   "name": "python3"
  },
  "language_info": {
   "codemirror_mode": {
    "name": "ipython",
    "version": 3
   },
   "file_extension": ".py",
   "mimetype": "text/x-python",
   "name": "python",
   "nbconvert_exporter": "python",
   "pygments_lexer": "ipython3",
   "version": "3.11.8"
  }
 },
 "nbformat": 4,
 "nbformat_minor": 2
}
